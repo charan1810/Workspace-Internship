{
 "cells": [
  {
   "cell_type": "markdown",
   "id": "b5b90dc4",
   "metadata": {},
   "source": [
    "# ` Clustering / Grouped / Unlabelled data`"
   ]
  },
  {
   "cell_type": "markdown",
   "id": "9d3891e3",
   "metadata": {},
   "source": [
    "- Cluster algorithms are insupervised learning. Types of clustering algos are :\n",
    "    - K Means Clustering\n",
    "    - Hierarchial Clustering"
   ]
  },
  {
   "cell_type": "markdown",
   "id": "d10c6782",
   "metadata": {},
   "source": [
    "- Unsupervised learning means that there will be the input data without annotations, that machine will think on its own based on some common features, identities, etc., \n",
    "- In unsupervised learning clustering is one group of algorithms where  there will be data without the labelling"
   ]
  },
  {
   "cell_type": "code",
   "execution_count": null,
   "id": "f433f694",
   "metadata": {},
   "outputs": [],
   "source": []
  }
 ],
 "metadata": {
  "kernelspec": {
   "display_name": "Python 3 (ipykernel)",
   "language": "python",
   "name": "python3"
  },
  "language_info": {
   "codemirror_mode": {
    "name": "ipython",
    "version": 3
   },
   "file_extension": ".py",
   "mimetype": "text/x-python",
   "name": "python",
   "nbconvert_exporter": "python",
   "pygments_lexer": "ipython3",
   "version": "3.11.7"
  }
 },
 "nbformat": 4,
 "nbformat_minor": 5
}
